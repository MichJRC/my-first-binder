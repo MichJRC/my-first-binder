{
 "cells": [
  {
   "cell_type": "code",
   "execution_count": 9,
   "id": "8f3a1699",
   "metadata": {},
   "outputs": [],
   "source": [
    "%matplotlib inline\n",
    "\n",
    "import geopandas as gpd\n",
    "import matplotlib.pyplot as plt\n",
    "import geopandas as gpd\n",
    "import plotly.express as px\n",
    "import plotly.graph_objects as go"
   ]
  },
  {
   "cell_type": "code",
   "execution_count": null,
   "id": "d71c32d3",
   "metadata": {},
   "outputs": [
    {
     "name": "stdout",
     "output_type": "stream",
     "text": [
      "Python executable: /workspaces/my-first-binder/geo_env/bin/python\n",
      "Virtual environment: True\n"
     ]
    }
   ],
   "source": [
    "#source geo_env/bin/activate\n",
    "import sys\n",
    "print(f\"Python executable: {sys.executable}\")\n",
    "print(f\"Virtual environment: {'geo_env' in sys.executable}\")"
   ]
  },
  {
   "cell_type": "code",
   "execution_count": 8,
   "id": "241b620c",
   "metadata": {},
   "outputs": [],
   "source": [
    "gdf = gpd.read_file(\"downloaded_data/merged_geodata.gpkg\")"
   ]
  },
  {
   "cell_type": "code",
   "execution_count": 10,
   "id": "242ee3e9",
   "metadata": {},
   "outputs": [],
   "source": [
    "gdf = gdf.to_crs(epsg=4326)"
   ]
  },
  {
   "cell_type": "code",
   "execution_count": 12,
   "id": "6f9e711e",
   "metadata": {},
   "outputs": [],
   "source": [
    "Mais = gdf[gdf['crop_name_clean'] == 'GRANTURCO (MAIS)']"
   ]
  },
  {
   "cell_type": "code",
   "execution_count": null,
   "id": "3d624ada",
   "metadata": {},
   "outputs": [
    {
     "name": "stderr",
     "output_type": "stream",
     "text": [
      "/tmp/ipykernel_4694/458148848.py:8: UserWarning: Geometry is in a geographic CRS. Results from 'centroid' are likely incorrect. Use 'GeoSeries.to_crs()' to re-project geometries to a projected CRS before this operation.\n",
      "\n",
      "  center={\"lat\": Mais.geometry.centroid.y.mean(),\n",
      "/tmp/ipykernel_4694/458148848.py:9: UserWarning: Geometry is in a geographic CRS. Results from 'centroid' are likely incorrect. Use 'GeoSeries.to_crs()' to re-project geometries to a projected CRS before this operation.\n",
      "\n",
      "  \"lon\": Mais.geometry.centroid.x.mean()},\n",
      "/tmp/ipykernel_4694/458148848.py:1: DeprecationWarning: *choropleth_mapbox* is deprecated! Use *choropleth_map* instead. Learn more at: https://plotly.com/python/mapbox-to-maplibre/\n",
      "  fig = px.choropleth_mapbox(\n"
     ]
    }
   ],
   "source": [
    "fig = px.choropleth_mapbox(\n",
    "    Mais,\n",
    "    geojson=Mais.geometry.__geo_interface__,\n",
    "    locations=Mais.index,\n",
    "    color='crop_name_clean',  # Column to color by\n",
    "    mapbox_style=\"open-street-map\",\n",
    "    zoom=10,\n",
    "    center={\"lat\": Mais.geometry.centroid.y.mean(), \n",
    "            \"lon\": Mais.geometry.centroid.x.mean()},\n",
    "    opacity=0.7,\n",
    "    title=\"Crop Distribution Map\"\n",
    ")\n",
    "\n",
    "fig.show()"
   ]
  }
 ],
 "metadata": {
  "kernelspec": {
   "display_name": "geo_env",
   "language": "python",
   "name": "python3"
  },
  "language_info": {
   "codemirror_mode": {
    "name": "ipython",
    "version": 3
   },
   "file_extension": ".py",
   "mimetype": "text/x-python",
   "name": "python",
   "nbconvert_exporter": "python",
   "pygments_lexer": "ipython3",
   "version": "3.11.13"
  }
 },
 "nbformat": 4,
 "nbformat_minor": 5
}
