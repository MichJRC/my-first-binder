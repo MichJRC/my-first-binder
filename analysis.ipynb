{
 "cells": [
  {
   "cell_type": "code",
   "execution_count": 2,
   "id": "8f3a1699",
   "metadata": {},
   "outputs": [],
   "source": [
    "import geopandas as gpd\n",
    "import matplotlib.pyplot as plt\n",
    "import geopandas as gpd\n",
    "import plotly.express as px\n",
    "import plotly.graph_objects as go"
   ]
  },
  {
   "cell_type": "code",
   "execution_count": null,
   "id": "d71c32d3",
   "metadata": {},
   "outputs": [
    {
     "name": "stdout",
     "output_type": "stream",
     "text": [
      "Python executable: /workspaces/my-first-binder/geo_env/bin/python\n",
      "Virtual environment: True\n"
     ]
    }
   ],
   "source": [
    "#source geo_env/bin/activate\n",
    "import sys\n",
    "print(f\"Python executable: {sys.executable}\")\n",
    "print(f\"Virtual environment: {'geo_env' in sys.executable}\")"
   ]
  },
  {
   "cell_type": "code",
   "execution_count": null,
   "id": "c3556146",
   "metadata": {},
   "outputs": [],
   "source": [
    "%matplotlib inline    # Show plots inline\n",
    "%matplotlib widget    # Interactive plots\n",
    "%%time               # Time execution of entire cell\n",
    "%who                 # List variables"
   ]
  },
  {
   "cell_type": "code",
   "execution_count": null,
   "id": "241b620c",
   "metadata": {},
   "outputs": [],
   "source": [
    "gdf = gpd.read_file(\"downloaded_data/merged_geodata.gpkg\")"
   ]
  },
  {
   "cell_type": "code",
   "execution_count": null,
   "id": "242ee3e9",
   "metadata": {},
   "outputs": [],
   "source": [
    "gdf = gdf.to_crs(epsg=4326)"
   ]
  },
  {
   "cell_type": "code",
   "execution_count": null,
   "id": "3d624ada",
   "metadata": {},
   "outputs": [],
   "source": [
    "fig = px.choropleth_mapbox(\n",
    "    gdf,\n",
    "    geojson=gdf.geometry.__geo_interface__,\n",
    "    locations=gdf.index,\n",
    "    color='crop_name_clean',  # Column to color by\n",
    "    mapbox_style=\"open-street-map\",\n",
    "    zoom=10,\n",
    "    center={\"lat\": gdf.geometry.centroid.y.mean(), \n",
    "            \"lon\": gdf.geometry.centroid.x.mean()},\n",
    "    opacity=0.7,\n",
    "    title=\"Crop Distribution Map\"\n",
    ")\n",
    "\n",
    "fig.show()"
   ]
  }
 ],
 "metadata": {
  "kernelspec": {
   "display_name": "geo_env",
   "language": "python",
   "name": "python3"
  },
  "language_info": {
   "codemirror_mode": {
    "name": "ipython",
    "version": 3
   },
   "file_extension": ".py",
   "mimetype": "text/x-python",
   "name": "python",
   "nbconvert_exporter": "python",
   "pygments_lexer": "ipython3",
   "version": "3.11.13"
  }
 },
 "nbformat": 4,
 "nbformat_minor": 5
}
